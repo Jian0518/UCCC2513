{
 "cells": [
  {
   "cell_type": "markdown",
   "id": "2487416d",
   "metadata": {},
   "source": [
    "## Exercise 3 \n",
    "Write codes that performs the following:\n",
    "Load the video “img_pexels.mp4” into the Python environment, resize it and display the videos with smaller frames (The frames can be of any size, as long as it is smaller). You can specify an arbitrary frame rate.\n",
    "Save it as a separate files: “smaller_img_pexels.avi” or \"smaller_img_pexels.mp4\""
   ]
  },
  {
   "cell_type": "code",
   "execution_count": 10,
   "id": "cebeee2c",
   "metadata": {},
   "outputs": [],
   "source": [
    "import cv2 as cv\n",
    "\n",
    "video_capture = cv.VideoCapture(\"videos/img_pexels.mp4\")\n",
    "\n",
    "# Get original video properties\n",
    "frame_width = int(video_capture.get(cv.CAP_PROP_FRAME_WIDTH))\n",
    "frame_height = int(video_capture.get(cv.CAP_PROP_FRAME_HEIGHT))\n",
    "frame_rate = int(video_capture.get(cv.CAP_PROP_FPS))\n",
    "\n",
    "# Create VideoWriter object to save the modified video\n",
    "output_path = \"smaller_img_pexels.mp4\"\n",
    "output_video = cv2.VideoWriter(output_path, cv2.VideoWriter_fourcc(*\"mp4v\"), frame_rate, (frame_width // 2, frame_height // 2))\n",
    "\n",
    "# Process and display each frame\n",
    "while True:\n",
    "    # Read a frame from the video\n",
    "    ret, frame = video_capture.read()\n",
    "    if not ret:\n",
    "        break\n",
    "\n",
    "    # Resize the frame\n",
    "    smaller_frame = cv2.resize(frame, (frame_width // 2, frame_height // 2))\n",
    "\n",
    "    # Display the smaller frame\n",
    "    cv2.imshow(\"Smaller Frame\", smaller_frame)\n",
    "    if cv2.waitKey(1) & 0xFF == ord('q'):\n",
    "        break\n",
    "\n",
    "    # Save the smaller frame to the output video\n",
    "    output_video.write(smaller_frame)\n",
    "\n",
    "video_capture.release()\n",
    "output_video.release()\n",
    "cv2.destroyAllWindows()\n"
   ]
  },
  {
   "cell_type": "markdown",
   "id": "120f0ae9",
   "metadata": {},
   "source": [
    "## Exercise 4\n",
    "Enlarge the image \"dog.jfif\" by using different techniques: 1) Linear interpolation, 2) Cubic interpolation and 3) nearest neighbor interpolation. Comment on the upscaled of all the outputs."
   ]
  },
  {
   "cell_type": "code",
   "execution_count": 9,
   "id": "a6bb6e24",
   "metadata": {},
   "outputs": [],
   "source": [
    "import cv2 as cv\n",
    "\n",
    "image = cv.imread(\"images/dog.jfif\")\n",
    "\n",
    "# Define the scale factor for enlargement\n",
    "scale_factor = 2\n",
    "\n",
    "# Perform linear interpolation \n",
    "linear_interpolation = cv.resize(image, None, fx=scale_factor, fy=scale_factor, interpolation=cv.INTER_LINEAR)\n",
    "cv.imshow(\"Linear Interpolation\", linear_interpolation)\n",
    "cv.waitKey(0)\n",
    "cv.destroyAllWindows()\n",
    "\n",
    "# Perform cubic interpolation\n",
    "cubic_interpolation = cv.resize(image, None, fx=scale_factor, fy=scale_factor, interpolation=cv.INTER_CUBIC)\n",
    "cv.imshow(\"Cubic Interpolation\", cubic_interpolation)\n",
    "cv.waitKey(0)\n",
    "cv.destroyAllWindows()\n",
    "\n",
    "# Perform nearest neighbor interpolation\n",
    "nearest_neighbor_interpolation = cv.resize(image, None, fx=scale_factor, fy=scale_factor, interpolation=cv.INTER_NEAREST)\n",
    "cv.imshow(\"Nearest Neighbor Interpolation\", nearest_neighbor_interpolation)\n",
    "cv.waitKey(0)\n",
    "cv.destroyAllWindows()\n"
   ]
  }
 ],
 "metadata": {
  "kernelspec": {
   "display_name": "Python 3 (ipykernel)",
   "language": "python",
   "name": "python3"
  },
  "language_info": {
   "codemirror_mode": {
    "name": "ipython",
    "version": 3
   },
   "file_extension": ".py",
   "mimetype": "text/x-python",
   "name": "python",
   "nbconvert_exporter": "python",
   "pygments_lexer": "ipython3",
   "version": "3.11.3"
  }
 },
 "nbformat": 4,
 "nbformat_minor": 5
}
