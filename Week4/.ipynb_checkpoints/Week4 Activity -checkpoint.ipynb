{
 "cells": [
  {
   "cell_type": "markdown",
   "id": "e7fb5f68",
   "metadata": {},
   "source": [
    "# 1.Create a random noise color and grayscale image. You can set your own width and height, but keep the total number of pixels of both images identical."
   ]
  },
  {
   "cell_type": "code",
   "execution_count": 1,
   "id": "90ae840e",
   "metadata": {},
   "outputs": [],
   "source": [
    "import numpy as np\n",
    "import cv2 as cv\n",
    "\n",
    "# Function to create a random noise image of given width and height\n",
    "def create_random_noise_image(width, height):\n",
    "    return np.random.randint(0, 256, (height, width, 3), dtype=np.uint8)\n",
    "\n",
    "# Function to convert a color image to grayscale\n",
    "def convert_to_grayscale(image):\n",
    "    return cv.cvtColor(image, cv.COLOR_BGR2GRAY)\n",
    "\n",
    "# Set width and height\n",
    "width, height = 400, 300\n",
    "\n",
    "# Create a random noise color image\n",
    "color_image = create_random_noise_image(width, height)\n",
    "\n",
    "# Convert the color image to grayscale\n",
    "grayscale_image = convert_to_grayscale(color_image)\n",
    "\n",
    "# Display the images\n",
    "cv.imshow(\"Random Color Image\", color_image)\n",
    "cv.imshow(\"Grayscale Image\", grayscale_image)\n",
    "cv.waitKey(0)\n",
    "cv.destroyAllWindows()\n"
   ]
  },
  {
   "cell_type": "markdown",
   "id": "e59810cd",
   "metadata": {},
   "source": [
    "# 2.Convert the code chunk found under section Divide an image into smaller patches using cropping into a function with the following signature:\n",
    "crop_grid(img, num_horizontal_grid, num_vertical_grid, line_color)\n"
   ]
  },
  {
   "cell_type": "code",
   "execution_count": 8,
   "id": "2bc358ec",
   "metadata": {},
   "outputs": [],
   "source": [
    "# Function to crop an image into smaller patches with grids\n",
    "def crop_grid(img, num_horizontal_grid, num_vertical_grid, line_color):\n",
    "    height, width = img.shape[:2]\n",
    "    M, N = int(height / num_vertical_grid), int(width / num_horizontal_grid)\n",
    "\n",
    "    for y in range(0, height, M):\n",
    "        for x in range(0, width, N):\n",
    "        \n",
    "            y1 = y + M\n",
    "            x1 = x + N\n",
    "        \n",
    "            if x1>=width and y1>=height:\n",
    "                x1 = width-1\n",
    "                y1 = height-1\n",
    "                cv.rectangle(img, (x, y), (x1, y1),line_color, 1)\n",
    " \n",
    "            \n",
    "            elif y1>=height:\n",
    "                y1 = height-1\n",
    "                cv.rectangle(img, (x, y), (x1, y1),line_color, 1)\n",
    "            \n",
    "            elif x1>=width:\n",
    "                x1 = width-1\n",
    "                cv.rectangle(img, (x, y), (x1, y1), line_color, 1)\n",
    "            \n",
    "            else:\n",
    "                cv.rectangle(img, (x, y), (x1, y1), line_color, 1)\n",
    "\n",
    "    return img\n",
    "\n",
    "\n",
    "image_path = \"images/lena.jfif\" \n",
    "image = cv.imread(image_path)\n",
    "\n",
    "\n",
    "num_horizontal_grid = 5\n",
    "num_vertical_grid = 5\n",
    "\n",
    "line_color = (0, 255, 0)  # Green \n",
    "\n",
    "\n",
    "grid_image = crop_grid(image.copy(), num_horizontal_grid, num_vertical_grid, line_color)\n",
    "cv.imshow(\"Grid Image\", grid_image)\n",
    "cv.waitKey(0)\n",
    "cv.destroyAllWindows()\n"
   ]
  },
  {
   "cell_type": "markdown",
   "id": "4fa73e87",
   "metadata": {},
   "source": [
    "# 3 Display image sequences of smooth transition of two images with different values of α\n",
    ". Refer to code in section \"Image blending\". Use \"lena.jfif\" and \"coins.jfif\" as the base images."
   ]
  },
  {
   "cell_type": "code",
   "execution_count": 13,
   "id": "6fc01737",
   "metadata": {},
   "outputs": [],
   "source": [
    "# Function to blend two images with a given alpha value\n",
    "def image_blend(image1, image2, alpha):\n",
    "    # Resize image2 to match the dimensions of image1\n",
    "    image2_resized = cv.resize(image2, (image1.shape[1], image1.shape[0]))\n",
    "    return cv.addWeighted(image1, alpha, image2_resized, 1 - alpha, 0)\n",
    "\n",
    "# Load the two base images \n",
    "image1_path = \"images/lena.jfif\"  \n",
    "image2_path = \"images/coins.jfif\"  \n",
    "image1 = cv.imread(image1_path)\n",
    "image2 = cv.imread(image2_path)\n",
    "\n",
    "# Set the range of alpha values (0 to 1) for the transition sequence\n",
    "alpha_values = np.linspace(0, 1, num=11)\n",
    "\n",
    "# Display the image sequences of smooth transition\n",
    "for alpha in alpha_values:\n",
    "    blended_image = image_blend(image1, image2, alpha)\n",
    "    cv.imshow(\"Blended Image\", blended_image)\n",
    "    if cv.waitKey(200) & 0xFF == 27:  # Press 'Esc' key to stop the sequence\n",
    "        break\n",
    "\n",
    "cv.destroyAllWindows()\n"
   ]
  },
  {
   "cell_type": "markdown",
   "id": "05acfccb",
   "metadata": {},
   "source": [
    "# 4.Suppose you are a digital content creator and wish to share photo online. However, you wish to protect these images from being stolen or altered by others. Leverage your image processing knowledge to apply watermark on image \"travel_hd.jpg\"."
   ]
  },
  {
   "cell_type": "code",
   "execution_count": 15,
   "id": "60b1b3d1",
   "metadata": {},
   "outputs": [],
   "source": [
    "def apply_text_watermark(image_path, watermark_text, output_path, position=(10, 30), font_scale=1, font_thickness=2, text_color=(0, 0, 255)):\n",
    "    # Load the image\n",
    "    image = cv.imread(image_path)\n",
    "\n",
    "    # Get the size of the text\n",
    "    (text_width, text_height), _ = cv.getTextSize(watermark_text, cv.FONT_HERSHEY_SIMPLEX, font_scale, font_thickness)\n",
    "\n",
    "    # Calculate the position to place the watermark (bottom-left corner by default)\n",
    "    x, y = position\n",
    "    y = max(y, image.shape[0] - 10)  # Ensure the watermark stays within the image boundaries\n",
    "\n",
    "    # Put the text on the image as a watermark\n",
    "    cv.putText(image, watermark_text, (x, y), cv.FONT_HERSHEY_SIMPLEX, font_scale, text_color, font_thickness, cv.LINE_AA)\n",
    "\n",
    "    # Save the watermarked image\n",
    "    cv.imwrite(output_path, image)\n",
    "\n",
    "\n",
    "image_path = \"images/travel_hd.jpg\"\n",
    "watermark_text = \"CV Lab UCCC2513\"\n",
    "\n",
    "\n",
    "output_path = \"watermarked_image.jpg\"\n",
    "\n",
    "# Apply the text watermark on the image\n",
    "apply_text_watermark(image_path, watermark_text, output_path)\n"
   ]
  },
  {
   "cell_type": "code",
   "execution_count": null,
   "id": "5dba9460",
   "metadata": {},
   "outputs": [],
   "source": []
  }
 ],
 "metadata": {
  "kernelspec": {
   "display_name": "Python 3 (ipykernel)",
   "language": "python",
   "name": "python3"
  },
  "language_info": {
   "codemirror_mode": {
    "name": "ipython",
    "version": 3
   },
   "file_extension": ".py",
   "mimetype": "text/x-python",
   "name": "python",
   "nbconvert_exporter": "python",
   "pygments_lexer": "ipython3",
   "version": "3.11.3"
  }
 },
 "nbformat": 4,
 "nbformat_minor": 5
}
