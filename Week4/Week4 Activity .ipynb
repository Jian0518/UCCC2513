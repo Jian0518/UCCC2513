{
 "cells": [
  {
   "cell_type": "markdown",
   "id": "e7fb5f68",
   "metadata": {},
   "source": [
    "# 1.Create a random noise color and grayscale image. You can set your own width and height, but keep the total number of pixels of both images identical."
   ]
  },
  {
   "cell_type": "code",
   "execution_count": 2,
   "id": "90ae840e",
   "metadata": {},
   "outputs": [],
   "source": [
    "import numpy as np\n",
    "import cv2 as cv\n",
    "\n",
    "# Function to create a random noise image of given width and height\n",
    "def create_random_noise_image(width, height):\n",
    "    return np.random.randint(0, 256, (height, width, 3), dtype=np.uint8)\n",
    "\n",
    "# Function to convert a color image to grayscale\n",
    "def convert_to_grayscale(image):\n",
    "    return cv.cvtColor(image, cv.COLOR_BGR2GRAY)\n",
    "\n",
    "# Set width and height\n",
    "width, height = 400, 300\n",
    "\n",
    "# Create a random noise color image\n",
    "color_image = create_random_noise_image(width, height)\n",
    "\n",
    "# Convert the color image to grayscale\n",
    "grayscale_image = convert_to_grayscale(color_image)\n",
    "\n",
    "# Display the images\n",
    "cv.imshow(\"Random Color Image\", color_image)\n",
    "cv.imshow(\"Grayscale Image\", grayscale_image)\n",
    "cv.waitKey(0)\n",
    "cv.destroyAllWindows()\n"
   ]
  },
  {
   "cell_type": "markdown",
   "id": "e59810cd",
   "metadata": {},
   "source": [
    "# 2.Convert the code chunk found under section Divide an image into smaller patches using cropping into a function with the following signature:\n",
    "crop_grid(img, num_horizontal_grid, num_vertical_grid, line_color)\n",
    "#img is the source image\n",
    "#num_horizontal_grid and num_vertical_grid are the number of patches along x and y axes.\n",
    "#line_color is the color of the grid line.\n",
    "#The output of the function should be image with grids"
   ]
  },
  {
   "cell_type": "code",
   "execution_count": 6,
   "id": "2bc358ec",
   "metadata": {},
   "outputs": [],
   "source": [
    "import numpy as np\n",
    "import cv2 as cv\n",
    "\n",
    "# Function to crop an image into smaller patches with grids\n",
    "def crop_grid(img, num_horizontal_grid, num_vertical_grid, line_color):\n",
    "    height, width = img.shape[:2]\n",
    "    patch_height = height // num_vertical_grid\n",
    "    patch_width = width // num_horizontal_grid\n",
    "\n",
    "    # Draw vertical grid lines\n",
    "    for x in range(0, width, patch_width):\n",
    "        cv.line(img, (x, 0), (x, height), line_color, 1)\n",
    "\n",
    "    # Draw horizontal grid lines\n",
    "    for y in range(0, height, patch_height):\n",
    "        cv.line(img, (0, y), (width, y), line_color, 1)\n",
    "\n",
    "    return img\n",
    "\n",
    "\n",
    "image_path = \"images/lena.jfif\" \n",
    "image = cv.imread(image_path)\n",
    "\n",
    "# Number of patches along x and y axes\n",
    "num_horizontal_grid = 5\n",
    "num_vertical_grid = 5\n",
    "\n",
    "# Line color for the grid\n",
    "line_color = (0, 255, 0)  # Green \n",
    "\n",
    "# Generate and display the image with grids\n",
    "grid_image = crop_grid(image.copy(), num_horizontal_grid, num_vertical_grid, line_color)\n",
    "cv2.imshow(\"Grid Image\", grid_image)\n",
    "cv2.waitKey(0)\n",
    "cv2.destroyAllWindows()\n"
   ]
  },
  {
   "cell_type": "markdown",
   "id": "4fa73e87",
   "metadata": {},
   "source": [
    "# 3 Display image sequences of smooth transition of two images with different values of α\n",
    ". Refer to code in section \"Image blending\". Use \"lena.jfif\" and \"coins.jfif\" as the base images."
   ]
  },
  {
   "cell_type": "code",
   "execution_count": 12,
   "id": "6fc01737",
   "metadata": {},
   "outputs": [],
   "source": [
    "import numpy as np\n",
    "import cv2\n",
    "\n",
    "# Function to blend two images with a given alpha value\n",
    "def image_blend(image1, image2, alpha):\n",
    "    # Resize image2 to match the dimensions of image1\n",
    "    image2_resized = cv2.resize(image2, (image1.shape[1], image1.shape[0]))\n",
    "    return cv2.addWeighted(image1, alpha, image2_resized, 1 - alpha, 0)\n",
    "\n",
    "# Load the two base images \n",
    "image1_path = \"images/lena.jfif\"  \n",
    "image2_path = \"images/coins.jfif\"  \n",
    "image1 = cv2.imread(image1_path)\n",
    "image2 = cv2.imread(image2_path)\n",
    "\n",
    "# Set the range of alpha values (0 to 1) for the transition sequence\n",
    "alpha_values = np.linspace(0, 1, num=10)\n",
    "\n",
    "# Display the image sequences of smooth transition\n",
    "for alpha in alpha_values:\n",
    "    blended_image = image_blend(image1, image2, alpha)\n",
    "    cv2.imshow(\"Blended Image\", blended_image)\n",
    "    if cv2.waitKey(200) & 0xFF == 27:  # Press 'Esc' key to stop the sequence\n",
    "        break\n",
    "\n",
    "cv2.destroyAllWindows()\n"
   ]
  },
  {
   "cell_type": "markdown",
   "id": "05acfccb",
   "metadata": {},
   "source": [
    "# 4.Suppose you are a digital content creator and wish to share photo online. However, you wish to protect these images from being stolen or altered by others. Leverage your image processing knowledge to apply watermark on image \"travel_hd.jpg\"."
   ]
  },
  {
   "cell_type": "code",
   "execution_count": 17,
   "id": "60b1b3d1",
   "metadata": {},
   "outputs": [],
   "source": [
    "import cv2\n",
    "import numpy as np\n",
    "\n",
    "# Function to apply text watermark on an image\n",
    "def apply_text_watermark(image_path, watermark_text, output_path, position=(10, 30), font_scale=1, font_thickness=2, text_color=(0, 0, 255)):\n",
    "    # Load the image\n",
    "    image = cv2.imread(image_path)\n",
    "\n",
    "    # Get the size of the text\n",
    "    (text_width, text_height), _ = cv2.getTextSize(watermark_text, cv2.FONT_HERSHEY_SIMPLEX, font_scale, font_thickness)\n",
    "\n",
    "    # Calculate the position to place the watermark (bottom-left corner by default)\n",
    "    x, y = position\n",
    "    y = max(y, image.shape[0] - 10)  # Ensure the watermark stays within the image boundaries\n",
    "\n",
    "    # Put the text on the image as a watermark\n",
    "    cv2.putText(image, watermark_text, (x, y), cv2.FONT_HERSHEY_SIMPLEX, font_scale, text_color, font_thickness, cv2.LINE_AA)\n",
    "\n",
    "    # Save the watermarked image\n",
    "    cv2.imwrite(output_path, image)\n",
    "\n",
    "\n",
    "image_path = \"images/travel_hd.jpg\"\n",
    "watermark_text = \"CV Lab UCCC2513\"\n",
    "\n",
    "\n",
    "output_path = \"watermarked_image.jpg\"\n",
    "\n",
    "# Apply the text watermark on the image\n",
    "apply_text_watermark(image_path, watermark_text, output_path)\n"
   ]
  }
 ],
 "metadata": {
  "kernelspec": {
   "display_name": "Python 3 (ipykernel)",
   "language": "python",
   "name": "python3"
  },
  "language_info": {
   "codemirror_mode": {
    "name": "ipython",
    "version": 3
   },
   "file_extension": ".py",
   "mimetype": "text/x-python",
   "name": "python",
   "nbconvert_exporter": "python",
   "pygments_lexer": "ipython3",
   "version": "3.11.3"
  }
 },
 "nbformat": 4,
 "nbformat_minor": 5
}
