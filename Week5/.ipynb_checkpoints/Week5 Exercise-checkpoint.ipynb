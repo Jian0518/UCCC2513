{
 "cells": [
  {
   "cell_type": "markdown",
   "id": "540b6200",
   "metadata": {},
   "source": [
    "## 1. Rotate image by 45 degrees without cropping the sides of the image."
   ]
  },
  {
   "cell_type": "code",
   "execution_count": 5,
   "id": "5d566b0b",
   "metadata": {},
   "outputs": [],
   "source": [
    "import cv2 as cv\n",
    "import imutils as im\n",
    "\n",
    "#First method \n",
    "\n",
    "image = cv.imread(\"images/lena.jfif\")\n",
    "\n",
    "# Rotate the image by 45 degrees \n",
    "rotated_image = im.rotate_bound(image, 45)\n",
    "\n",
    "# Display the rotated image\n",
    "cv.imshow(\"Rotated Image\", rotated_image)\n",
    "cv.waitKey(0)\n",
    "cv.destroyAllWindows()\n"
   ]
  },
  {
   "cell_type": "code",
   "execution_count": 4,
   "id": "76e86568",
   "metadata": {},
   "outputs": [],
   "source": [
    "import numpy as np\n",
    "#Second method \n",
    "image = cv.imread(\"images/lena.jfif\")\n",
    "\n",
    "height, width = image.shape[:2]\n",
    "\n",
    "center_x, center_y = width // 2, height // 2\n",
    "\n",
    "angle = -45\n",
    "\n",
    "# Calculate the transformation matrix\n",
    "rotation_matrix = cv.getRotationMatrix2D((center_x, center_y), angle, 1)\n",
    "\n",
    "# Determine the new size of the image after rotation\n",
    "new_width = int(width * np.abs(np.cos(np.radians(angle))) + height * np.abs(np.sin(np.radians(angle))))\n",
    "new_height = int(height * np.abs(np.cos(np.radians(angle))) + width * np.abs(np.sin(np.radians(angle))))\n",
    "\n",
    "# Adjust the translation part of the matrix to prevent cropping\n",
    "rotation_matrix[0, 2] += (new_width - width) // 2\n",
    "rotation_matrix[1, 2] += (new_height - height) // 2\n",
    "\n",
    "# Perform the actual rotation\n",
    "rotated_image = cv.warpAffine(image, rotation_matrix, (new_width, new_height), borderMode=cv.BORDER_CONSTANT, borderValue=(255, 255, 255))\n",
    "\n",
    "# Display the rotated image\n",
    "cv.imshow(\"Rotated Image\", rotated_image)\n",
    "cv.waitKey(0)\n",
    "cv.destroyAllWindows()\n"
   ]
  },
  {
   "cell_type": "markdown",
   "id": "625ac8dc",
   "metadata": {},
   "source": [
    "## Question 2"
   ]
  },
  {
   "cell_type": "code",
   "execution_count": null,
   "id": "9a63ac4e",
   "metadata": {},
   "outputs": [],
   "source": []
  },
  {
   "cell_type": "markdown",
   "id": "9a2b679b",
   "metadata": {},
   "source": [
    "## Question3 "
   ]
  },
  {
   "cell_type": "code",
   "execution_count": 6,
   "id": "7317a13d",
   "metadata": {},
   "outputs": [],
   "source": [
    "image = cv.imread(\"images/native-bee.png\")\n",
    "\n",
    "\n",
    "kernel_3x3 = np.array([[0, -1, 0],\n",
    "                       [-1,  5, -1],\n",
    "                       [0, -1, 0]])\n",
    "\n",
    "kernel_5x5 = np.array([[-1, -1, -1, -1, -1],\n",
    "                       [-1, -1, -1, -1, -1],\n",
    "                       [-1, -1, 25, -1, -1],\n",
    "                       [-1, -1, -1, -1, -1],\n",
    "                       [-1, -1, -1, -1, -1]])\n",
    "\n",
    "# Perform the convolution with the image\n",
    "sharpened_image_3x3 = cv.filter2D(image, -1, kernel_3x3)\n",
    "sharpened_image_5x5 = cv.filter2D(image, -1, kernel_5x5)\n",
    "\n",
    "# Display the original and sharpened images\n",
    "cv.imshow(\"Original Image\", image)\n",
    "cv.imshow(\"Sharpened Image (3x3 Kernel)\", sharpened_image_3x3)\n",
    "cv.imshow(\"Sharpened Image (5x5 Kernel)\", sharpened_image_5x5)\n",
    "\n",
    "cv.waitKey(0)\n",
    "cv.destroyAllWindows()"
   ]
  },
  {
   "cell_type": "markdown",
   "id": "ef0dab1b",
   "metadata": {},
   "source": [
    "The \"Sharpened Image (3x3 Kernel)\" have enhanced edge contrast and a sharpened appearance compared to the original image.\n",
    "\n",
    "The \"Sharpened Image (5x5 Kernel)\" has a more intense sharpening effect compared to the 3x3 kernel. The output have stronger edge enhancement and sharper features compared to both the original image and the output of the 3x3 kernel."
   ]
  },
  {
   "cell_type": "markdown",
   "id": "26cbf671",
   "metadata": {},
   "source": [
    "## Question 4"
   ]
  },
  {
   "cell_type": "code",
   "execution_count": 8,
   "id": "1940f686",
   "metadata": {},
   "outputs": [],
   "source": [
    "\n",
    "image = cv.imread(\"images/noise_lena.jpg\")\n",
    "\n",
    "# average filter (2D convolution with a kernel of ones)\n",
    "average_filter = np.ones((3, 3), dtype=np.float32) / 9\n",
    "average = cv.filter2D(image, -1, average_filter)\n",
    "\n",
    "# Gaussian filter\n",
    "gaussian = cv.GaussianBlur(image, (5, 5), 0)\n",
    "\n",
    "# median filter\n",
    "median = cv.medianBlur(image, 5)\n",
    "\n",
    "\n",
    "cv.imshow(\"Original Image\", image)\n",
    "cv.imshow(\"Average Filter\", average)\n",
    "cv.imshow(\"Gaussian Filter\", gaussian)\n",
    "cv.imshow(\"Median Filter\", median)\n",
    "\n",
    "cv.waitKey(0)\n",
    "cv.destroyAllWindows()\n"
   ]
  },
  {
   "cell_type": "markdown",
   "id": "91adc9a8",
   "metadata": {},
   "source": [
    "The gaussian filter displayed an blurred image outputIt did not preserve sharp edges.\n",
    "\n",
    "The average filter is preserving edges and details better than the gaussian filter.\n",
    "\n",
    "The median filter appears smoother and more visually appealing."
   ]
  }
 ],
 "metadata": {
  "kernelspec": {
   "display_name": "Python 3 (ipykernel)",
   "language": "python",
   "name": "python3"
  },
  "language_info": {
   "codemirror_mode": {
    "name": "ipython",
    "version": 3
   },
   "file_extension": ".py",
   "mimetype": "text/x-python",
   "name": "python",
   "nbconvert_exporter": "python",
   "pygments_lexer": "ipython3",
   "version": "3.11.3"
  }
 },
 "nbformat": 4,
 "nbformat_minor": 5
}
