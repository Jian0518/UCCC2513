{
 "cells": [
  {
   "cell_type": "markdown",
   "id": "540b6200",
   "metadata": {},
   "source": [
    "## 1. Rotate image by 45 degrees without cropping the sides of the image."
   ]
  },
  {
   "cell_type": "code",
   "execution_count": 8,
   "id": "5d566b0b",
   "metadata": {},
   "outputs": [],
   "source": [
    "import cv2 as cv\n",
    "import imutils as im\n",
    "\n",
    "\n",
    "image = cv.imread(\"images/lena.jfif\")\n",
    "\n",
    "# Rotate the image by 45 degrees \n",
    "rotated_image = im.rotate_bound(image, 45)\n",
    "\n",
    "# Display the rotated image\n",
    "cv.imshow(\"Rotated Image\", rotated_image)\n",
    "cv.waitKey(0)\n",
    "cv.destroyAllWindows()\n"
   ]
  },
  {
   "cell_type": "code",
   "execution_count": 11,
   "id": "76e86568",
   "metadata": {},
   "outputs": [],
   "source": [
    "import cv2 as cv\n",
    "import numpy as np\n",
    "\n",
    "\n",
    "image = cv.imread(\"images/lena.jfif\")\n",
    "\n",
    "height, width = image.shape[:2]\n",
    "\n",
    "center_x, center_y = width // 2, height // 2\n",
    "\n",
    "angle = 45\n",
    "\n",
    "# Calculate the transformation matrix\n",
    "rotation_matrix = cv.getRotationMatrix2D((center_x, center_y), angle, 1)\n",
    "\n",
    "# Determine the new size of the image after rotation\n",
    "new_width = int(width * np.abs(np.cos(np.radians(angle))) + height * np.abs(np.sin(np.radians(angle))))\n",
    "new_height = int(height * np.abs(np.cos(np.radians(angle))) + width * np.abs(np.sin(np.radians(angle))))\n",
    "\n",
    "# Adjust the translation part of the matrix to prevent cropping\n",
    "rotation_matrix[0, 2] += (new_width - width) // 2\n",
    "rotation_matrix[1, 2] += (new_height - height) // 2\n",
    "\n",
    "# Perform the actual rotation\n",
    "rotated_image = cv.warpAffine(image, rotation_matrix, (new_width, new_height), borderMode=cv.BORDER_CONSTANT, borderValue=(255, 255, 255))\n",
    "\n",
    "# Display the rotated image\n",
    "cv.imshow(\"Rotated Image\", rotated_image)\n",
    "cv.waitKey(0)\n",
    "cv.destroyAllWindows()\n"
   ]
  },
  {
   "cell_type": "code",
   "execution_count": null,
   "id": "435bcf4b",
   "metadata": {},
   "outputs": [],
   "source": []
  }
 ],
 "metadata": {
  "kernelspec": {
   "display_name": "Python 3 (ipykernel)",
   "language": "python",
   "name": "python3"
  },
  "language_info": {
   "codemirror_mode": {
    "name": "ipython",
    "version": 3
   },
   "file_extension": ".py",
   "mimetype": "text/x-python",
   "name": "python",
   "nbconvert_exporter": "python",
   "pygments_lexer": "ipython3",
   "version": "3.11.3"
  }
 },
 "nbformat": 4,
 "nbformat_minor": 5
}
